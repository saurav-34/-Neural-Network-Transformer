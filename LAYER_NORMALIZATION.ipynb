{
  "nbformat": 4,
  "nbformat_minor": 0,
  "metadata": {
    "colab": {
      "provenance": []
    },
    "kernelspec": {
      "name": "python3",
      "display_name": "Python 3"
    },
    "language_info": {
      "name": "python"
    }
  },
  "cells": [
    {
      "cell_type": "markdown",
      "source": [
        "**LAYER NORMALIZATION**"
      ],
      "metadata": {
        "id": "4KvlZMMOr64I"
      }
    },
    {
      "cell_type": "markdown",
      "source": [
        " To normalize the activations of a layer across the feature dimension. It helps stabilize training, improve convergence, and reduce internal covariate shift.\n",
        "\n",
        "    [ Start ]  \n",
        "       ↓  \n",
        "   [ Input Data (X) ]  \n",
        "       ↓  \n",
        "   [ Compute Mean (μ) ]  \n",
        "       ↓  \n",
        "   [ Compute Variance (σ²) ]  \n",
        "       ↓  \n",
        "   [ Normalize: (X - μ) / sqrt(σ² + ε) ]  \n",
        "       ↓  \n",
        "   [ Scale & Shift: Y = γ * Normalized(X) + β ]  \n",
        "       ↓  \n",
        "   [ Output Normalized Values (Y) ]  \n",
        "       ↓  \n",
        "   [ End ]  \n"
      ],
      "metadata": {
        "id": "ajpRiWHboDcV"
      }
    },
    {
      "cell_type": "markdown",
      "source": [
        "![image.png](data:image/png;base64,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)"
      ],
      "metadata": {
        "id": "hd4S2aMbpey3"
      }
    },
    {
      "cell_type": "code",
      "source": [
        "#simple implementation of layer normalization in a small data\n",
        "import torch\n",
        "\n",
        "# Step 1: Input tensor (single sample with 3 features)\n",
        "X = torch.tensor([5.0, 10.0, 15.0])\n",
        "\n",
        "# Step 2: Compute mean\n",
        "mu = X.mean()\n",
        "\n",
        "# Step 3: Compute variance\n",
        "sigma_squared = X.var(unbiased=False)  # `unbiased=False` for population variance\n",
        "\n",
        "# Step 4: Normalize\n",
        "epsilon = 1e-5  # Small constant to prevent division by zero\n",
        "X_norm = (X - mu) / torch.sqrt(sigma_squared + epsilon)\n",
        "\n",
        "# Step 5: Apply learnable parameters (gamma and beta)\n",
        "gamma = torch.tensor(2.0)  # Scaling factor\n",
        "beta = torch.tensor(3.0)   # Shifting factor\n",
        "Y = gamma * X_norm + beta\n",
        "\n",
        "# Print results\n",
        "print(\"Input X:\", X)\n",
        "print(\"Mean (μ):\", mu.item())\n",
        "print(\"Variance (σ²):\", sigma_squared.item())\n",
        "print(\"Normalized X:\", X_norm)\n",
        "print(\"Final Output Y after LayerNorm:\", Y)\n"
      ],
      "metadata": {
        "colab": {
          "base_uri": "https://localhost:8080/"
        },
        "id": "Aoa-4S_EoBUC",
        "outputId": "cdb78adc-3919-4302-9ac0-7acb6c79a6ca"
      },
      "execution_count": 1,
      "outputs": [
        {
          "output_type": "stream",
          "name": "stdout",
          "text": [
            "Input X: tensor([ 5., 10., 15.])\n",
            "Mean (μ): 10.0\n",
            "Variance (σ²): 16.66666603088379\n",
            "Normalized X: tensor([-1.2247,  0.0000,  1.2247])\n",
            "Final Output Y after LayerNorm: tensor([0.5505, 3.0000, 5.4495])\n"
          ]
        }
      ]
    },
    {
      "cell_type": "markdown",
      "source": [
        "Final code for layer normalization\n"
      ],
      "metadata": {
        "id": "dJlKe7h2rJhF"
      }
    },
    {
      "cell_type": "code",
      "source": [
        "import torch\n",
        "import torch.nn as nn\n"
      ],
      "metadata": {
        "id": "bkotsn4ir1uY"
      },
      "execution_count": 3,
      "outputs": []
    },
    {
      "cell_type": "code",
      "source": [
        "# Creating Layer Normalization\n",
        "class LayerNormalization(nn.Module):\n",
        "\n",
        "    def __init__(self, eps: float = 10**-6) -> None: # We define epsilon as 0.000001 to avoid division by zero\n",
        "        super().__init__()\n",
        "        self.eps = eps\n",
        "\n",
        "        # We define alpha as a trainable parameter and initialize it with ones\n",
        "        self.alpha = nn.Parameter(torch.ones(1)) # One-dimensional tensor that will be used to scale the input data\n",
        "\n",
        "        # We define bias as a trainable parameter and initialize it with zeros\n",
        "        self.bias = nn.Parameter(torch.zeros(1)) # One-dimensional tenso that will be added to the input data\n",
        "\n",
        "    def forward(self, x):\n",
        "        mean = x.mean(dim = -1, keepdim = True) # Computing the mean of the input data. Keeping the number of dimensions unchanged\n",
        "        std = x.std(dim = -1, keepdim = True) # Computing the standard deviation of the input data. Keeping the number of dimensions unchanged\n",
        "\n",
        "        # Returning the normalized input\n",
        "        return self.alpha * (x-mean) / (std + self.eps) + self.bias"
      ],
      "metadata": {
        "id": "MeJ1EhW1rNe-"
      },
      "execution_count": 4,
      "outputs": []
    },
    {
      "cell_type": "code",
      "source": [],
      "metadata": {
        "id": "vESYG9Qfr5J_"
      },
      "execution_count": null,
      "outputs": []
    }
  ]
}